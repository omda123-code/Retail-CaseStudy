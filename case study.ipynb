{
 "cells": [
  {
   "cell_type": "code",
   "execution_count": 1,
   "id": "c58882db-4d6c-401a-9d9c-31bb93c96108",
   "metadata": {},
   "outputs": [],
   "source": [
    "import pandas as pd \n",
    "import numpy as np \n",
    "import seaborn as snn\n",
    "import matplotlib.pyplot as plt"
   ]
  },
  {
   "cell_type": "code",
   "execution_count": 2,
   "id": "bba13b30-ec30-45b2-b9e0-fca6f4226bf2",
   "metadata": {},
   "outputs": [
    {
     "data": {
      "text/html": [
       "<div>\n",
       "<style scoped>\n",
       "    .dataframe tbody tr th:only-of-type {\n",
       "        vertical-align: middle;\n",
       "    }\n",
       "\n",
       "    .dataframe tbody tr th {\n",
       "        vertical-align: top;\n",
       "    }\n",
       "\n",
       "    .dataframe thead th {\n",
       "        text-align: right;\n",
       "    }\n",
       "</style>\n",
       "<table border=\"1\" class=\"dataframe\">\n",
       "  <thead>\n",
       "    <tr style=\"text-align: right;\">\n",
       "      <th></th>\n",
       "      <th>product_id</th>\n",
       "      <th>product_category_name</th>\n",
       "      <th>month_year</th>\n",
       "      <th>qty</th>\n",
       "      <th>total_price</th>\n",
       "      <th>freight_price</th>\n",
       "      <th>unit_price</th>\n",
       "      <th>product_name_lenght</th>\n",
       "      <th>product_description_lenght</th>\n",
       "      <th>product_photos_qty</th>\n",
       "      <th>...</th>\n",
       "      <th>comp_1</th>\n",
       "      <th>ps1</th>\n",
       "      <th>fp1</th>\n",
       "      <th>comp_2</th>\n",
       "      <th>ps2</th>\n",
       "      <th>fp2</th>\n",
       "      <th>comp_3</th>\n",
       "      <th>ps3</th>\n",
       "      <th>fp3</th>\n",
       "      <th>lag_price</th>\n",
       "    </tr>\n",
       "  </thead>\n",
       "  <tbody>\n",
       "    <tr>\n",
       "      <th>0</th>\n",
       "      <td>bed1</td>\n",
       "      <td>bed_bath_table</td>\n",
       "      <td>01-05-2017</td>\n",
       "      <td>1</td>\n",
       "      <td>45.95</td>\n",
       "      <td>15.100000</td>\n",
       "      <td>45.95</td>\n",
       "      <td>39</td>\n",
       "      <td>161</td>\n",
       "      <td>2</td>\n",
       "      <td>...</td>\n",
       "      <td>89.9</td>\n",
       "      <td>3.9</td>\n",
       "      <td>15.011897</td>\n",
       "      <td>215.000000</td>\n",
       "      <td>4.4</td>\n",
       "      <td>8.760000</td>\n",
       "      <td>45.95</td>\n",
       "      <td>4.0</td>\n",
       "      <td>15.100000</td>\n",
       "      <td>45.90</td>\n",
       "    </tr>\n",
       "    <tr>\n",
       "      <th>1</th>\n",
       "      <td>bed1</td>\n",
       "      <td>bed_bath_table</td>\n",
       "      <td>01-06-2017</td>\n",
       "      <td>3</td>\n",
       "      <td>137.85</td>\n",
       "      <td>12.933333</td>\n",
       "      <td>45.95</td>\n",
       "      <td>39</td>\n",
       "      <td>161</td>\n",
       "      <td>2</td>\n",
       "      <td>...</td>\n",
       "      <td>89.9</td>\n",
       "      <td>3.9</td>\n",
       "      <td>14.769216</td>\n",
       "      <td>209.000000</td>\n",
       "      <td>4.4</td>\n",
       "      <td>21.322000</td>\n",
       "      <td>45.95</td>\n",
       "      <td>4.0</td>\n",
       "      <td>12.933333</td>\n",
       "      <td>45.95</td>\n",
       "    </tr>\n",
       "    <tr>\n",
       "      <th>2</th>\n",
       "      <td>bed1</td>\n",
       "      <td>bed_bath_table</td>\n",
       "      <td>01-07-2017</td>\n",
       "      <td>6</td>\n",
       "      <td>275.70</td>\n",
       "      <td>14.840000</td>\n",
       "      <td>45.95</td>\n",
       "      <td>39</td>\n",
       "      <td>161</td>\n",
       "      <td>2</td>\n",
       "      <td>...</td>\n",
       "      <td>89.9</td>\n",
       "      <td>3.9</td>\n",
       "      <td>13.993833</td>\n",
       "      <td>205.000000</td>\n",
       "      <td>4.4</td>\n",
       "      <td>22.195932</td>\n",
       "      <td>45.95</td>\n",
       "      <td>4.0</td>\n",
       "      <td>14.840000</td>\n",
       "      <td>45.95</td>\n",
       "    </tr>\n",
       "    <tr>\n",
       "      <th>3</th>\n",
       "      <td>bed1</td>\n",
       "      <td>bed_bath_table</td>\n",
       "      <td>01-08-2017</td>\n",
       "      <td>4</td>\n",
       "      <td>183.80</td>\n",
       "      <td>14.287500</td>\n",
       "      <td>45.95</td>\n",
       "      <td>39</td>\n",
       "      <td>161</td>\n",
       "      <td>2</td>\n",
       "      <td>...</td>\n",
       "      <td>89.9</td>\n",
       "      <td>3.9</td>\n",
       "      <td>14.656757</td>\n",
       "      <td>199.509804</td>\n",
       "      <td>4.4</td>\n",
       "      <td>19.412885</td>\n",
       "      <td>45.95</td>\n",
       "      <td>4.0</td>\n",
       "      <td>14.287500</td>\n",
       "      <td>45.95</td>\n",
       "    </tr>\n",
       "    <tr>\n",
       "      <th>4</th>\n",
       "      <td>bed1</td>\n",
       "      <td>bed_bath_table</td>\n",
       "      <td>01-09-2017</td>\n",
       "      <td>2</td>\n",
       "      <td>91.90</td>\n",
       "      <td>15.100000</td>\n",
       "      <td>45.95</td>\n",
       "      <td>39</td>\n",
       "      <td>161</td>\n",
       "      <td>2</td>\n",
       "      <td>...</td>\n",
       "      <td>89.9</td>\n",
       "      <td>3.9</td>\n",
       "      <td>18.776522</td>\n",
       "      <td>163.398710</td>\n",
       "      <td>4.4</td>\n",
       "      <td>24.324687</td>\n",
       "      <td>45.95</td>\n",
       "      <td>4.0</td>\n",
       "      <td>15.100000</td>\n",
       "      <td>45.95</td>\n",
       "    </tr>\n",
       "  </tbody>\n",
       "</table>\n",
       "<p>5 rows × 30 columns</p>\n",
       "</div>"
      ],
      "text/plain": [
       "  product_id product_category_name  month_year  qty  total_price  \\\n",
       "0       bed1        bed_bath_table  01-05-2017    1        45.95   \n",
       "1       bed1        bed_bath_table  01-06-2017    3       137.85   \n",
       "2       bed1        bed_bath_table  01-07-2017    6       275.70   \n",
       "3       bed1        bed_bath_table  01-08-2017    4       183.80   \n",
       "4       bed1        bed_bath_table  01-09-2017    2        91.90   \n",
       "\n",
       "   freight_price  unit_price  product_name_lenght  product_description_lenght  \\\n",
       "0      15.100000       45.95                   39                         161   \n",
       "1      12.933333       45.95                   39                         161   \n",
       "2      14.840000       45.95                   39                         161   \n",
       "3      14.287500       45.95                   39                         161   \n",
       "4      15.100000       45.95                   39                         161   \n",
       "\n",
       "   product_photos_qty  ...  comp_1  ps1        fp1      comp_2  ps2  \\\n",
       "0                   2  ...    89.9  3.9  15.011897  215.000000  4.4   \n",
       "1                   2  ...    89.9  3.9  14.769216  209.000000  4.4   \n",
       "2                   2  ...    89.9  3.9  13.993833  205.000000  4.4   \n",
       "3                   2  ...    89.9  3.9  14.656757  199.509804  4.4   \n",
       "4                   2  ...    89.9  3.9  18.776522  163.398710  4.4   \n",
       "\n",
       "         fp2  comp_3  ps3        fp3  lag_price  \n",
       "0   8.760000   45.95  4.0  15.100000      45.90  \n",
       "1  21.322000   45.95  4.0  12.933333      45.95  \n",
       "2  22.195932   45.95  4.0  14.840000      45.95  \n",
       "3  19.412885   45.95  4.0  14.287500      45.95  \n",
       "4  24.324687   45.95  4.0  15.100000      45.95  \n",
       "\n",
       "[5 rows x 30 columns]"
      ]
     },
     "execution_count": 2,
     "metadata": {},
     "output_type": "execute_result"
    }
   ],
   "source": [
    "df= pd.read_csv('C:/Users/Ismail/Desktop/default Data/store/case study/retail_price.csv')\n",
    "df.head()"
   ]
  },
  {
   "cell_type": "markdown",
   "id": "5a7718bf-7d72-4abf-872b-22cdc9dd31c3",
   "metadata": {},
   "source": [
    "## استكشاف وتنظيف البيانات"
   ]
  },
  {
   "cell_type": "code",
   "execution_count": 3,
   "id": "f59c389a-232b-4be8-9b68-82ce0422cf67",
   "metadata": {},
   "outputs": [
    {
     "name": "stdout",
     "output_type": "stream",
     "text": [
      "<class 'pandas.core.frame.DataFrame'>\n",
      "RangeIndex: 676 entries, 0 to 675\n",
      "Data columns (total 30 columns):\n",
      " #   Column                      Non-Null Count  Dtype  \n",
      "---  ------                      --------------  -----  \n",
      " 0   product_id                  676 non-null    object \n",
      " 1   product_category_name       676 non-null    object \n",
      " 2   month_year                  676 non-null    object \n",
      " 3   qty                         676 non-null    int64  \n",
      " 4   total_price                 676 non-null    float64\n",
      " 5   freight_price               676 non-null    float64\n",
      " 6   unit_price                  676 non-null    float64\n",
      " 7   product_name_lenght         676 non-null    int64  \n",
      " 8   product_description_lenght  676 non-null    int64  \n",
      " 9   product_photos_qty          676 non-null    int64  \n",
      " 10  product_weight_g            676 non-null    int64  \n",
      " 11  product_score               676 non-null    float64\n",
      " 12  customers                   676 non-null    int64  \n",
      " 13  weekday                     676 non-null    int64  \n",
      " 14  weekend                     676 non-null    int64  \n",
      " 15  holiday                     676 non-null    int64  \n",
      " 16  month                       676 non-null    int64  \n",
      " 17  year                        676 non-null    int64  \n",
      " 18  s                           676 non-null    float64\n",
      " 19  volume                      676 non-null    int64  \n",
      " 20  comp_1                      676 non-null    float64\n",
      " 21  ps1                         676 non-null    float64\n",
      " 22  fp1                         676 non-null    float64\n",
      " 23  comp_2                      676 non-null    float64\n",
      " 24  ps2                         676 non-null    float64\n",
      " 25  fp2                         676 non-null    float64\n",
      " 26  comp_3                      676 non-null    float64\n",
      " 27  ps3                         676 non-null    float64\n",
      " 28  fp3                         676 non-null    float64\n",
      " 29  lag_price                   676 non-null    float64\n",
      "dtypes: float64(15), int64(12), object(3)\n",
      "memory usage: 158.6+ KB\n"
     ]
    }
   ],
   "source": [
    "df.info()"
   ]
  },
  {
   "cell_type": "code",
   "execution_count": 4,
   "id": "6a1c7395-912e-4013-8508-a275541efd7e",
   "metadata": {},
   "outputs": [
    {
     "data": {
      "text/html": [
       "<div>\n",
       "<style scoped>\n",
       "    .dataframe tbody tr th:only-of-type {\n",
       "        vertical-align: middle;\n",
       "    }\n",
       "\n",
       "    .dataframe tbody tr th {\n",
       "        vertical-align: top;\n",
       "    }\n",
       "\n",
       "    .dataframe thead th {\n",
       "        text-align: right;\n",
       "    }\n",
       "</style>\n",
       "<table border=\"1\" class=\"dataframe\">\n",
       "  <thead>\n",
       "    <tr style=\"text-align: right;\">\n",
       "      <th></th>\n",
       "      <th>qty</th>\n",
       "      <th>total_price</th>\n",
       "      <th>freight_price</th>\n",
       "      <th>unit_price</th>\n",
       "      <th>product_name_lenght</th>\n",
       "      <th>product_description_lenght</th>\n",
       "      <th>product_photos_qty</th>\n",
       "      <th>product_weight_g</th>\n",
       "      <th>product_score</th>\n",
       "      <th>customers</th>\n",
       "      <th>...</th>\n",
       "      <th>comp_1</th>\n",
       "      <th>ps1</th>\n",
       "      <th>fp1</th>\n",
       "      <th>comp_2</th>\n",
       "      <th>ps2</th>\n",
       "      <th>fp2</th>\n",
       "      <th>comp_3</th>\n",
       "      <th>ps3</th>\n",
       "      <th>fp3</th>\n",
       "      <th>lag_price</th>\n",
       "    </tr>\n",
       "  </thead>\n",
       "  <tbody>\n",
       "    <tr>\n",
       "      <th>count</th>\n",
       "      <td>676.000000</td>\n",
       "      <td>676.000000</td>\n",
       "      <td>676.000000</td>\n",
       "      <td>676.000000</td>\n",
       "      <td>676.000000</td>\n",
       "      <td>676.000000</td>\n",
       "      <td>676.000000</td>\n",
       "      <td>676.000000</td>\n",
       "      <td>676.000000</td>\n",
       "      <td>676.000000</td>\n",
       "      <td>...</td>\n",
       "      <td>676.000000</td>\n",
       "      <td>676.000000</td>\n",
       "      <td>676.000000</td>\n",
       "      <td>676.000000</td>\n",
       "      <td>676.000000</td>\n",
       "      <td>676.000000</td>\n",
       "      <td>676.000000</td>\n",
       "      <td>676.000000</td>\n",
       "      <td>676.000000</td>\n",
       "      <td>676.000000</td>\n",
       "    </tr>\n",
       "    <tr>\n",
       "      <th>mean</th>\n",
       "      <td>14.495562</td>\n",
       "      <td>1422.708728</td>\n",
       "      <td>20.682270</td>\n",
       "      <td>106.496800</td>\n",
       "      <td>48.720414</td>\n",
       "      <td>767.399408</td>\n",
       "      <td>1.994083</td>\n",
       "      <td>1847.498521</td>\n",
       "      <td>4.085503</td>\n",
       "      <td>81.028107</td>\n",
       "      <td>...</td>\n",
       "      <td>79.452054</td>\n",
       "      <td>4.159467</td>\n",
       "      <td>18.597610</td>\n",
       "      <td>92.930079</td>\n",
       "      <td>4.123521</td>\n",
       "      <td>18.620644</td>\n",
       "      <td>84.182642</td>\n",
       "      <td>4.002071</td>\n",
       "      <td>17.965007</td>\n",
       "      <td>107.399684</td>\n",
       "    </tr>\n",
       "    <tr>\n",
       "      <th>std</th>\n",
       "      <td>15.443421</td>\n",
       "      <td>1700.123100</td>\n",
       "      <td>10.081817</td>\n",
       "      <td>76.182972</td>\n",
       "      <td>9.420715</td>\n",
       "      <td>655.205015</td>\n",
       "      <td>1.420473</td>\n",
       "      <td>2274.808483</td>\n",
       "      <td>0.232021</td>\n",
       "      <td>62.055560</td>\n",
       "      <td>...</td>\n",
       "      <td>47.933358</td>\n",
       "      <td>0.121652</td>\n",
       "      <td>9.406537</td>\n",
       "      <td>49.481269</td>\n",
       "      <td>0.207189</td>\n",
       "      <td>6.424174</td>\n",
       "      <td>47.745789</td>\n",
       "      <td>0.233292</td>\n",
       "      <td>5.533256</td>\n",
       "      <td>76.974657</td>\n",
       "    </tr>\n",
       "    <tr>\n",
       "      <th>min</th>\n",
       "      <td>1.000000</td>\n",
       "      <td>19.900000</td>\n",
       "      <td>0.000000</td>\n",
       "      <td>19.900000</td>\n",
       "      <td>29.000000</td>\n",
       "      <td>100.000000</td>\n",
       "      <td>1.000000</td>\n",
       "      <td>100.000000</td>\n",
       "      <td>3.300000</td>\n",
       "      <td>1.000000</td>\n",
       "      <td>...</td>\n",
       "      <td>19.900000</td>\n",
       "      <td>3.700000</td>\n",
       "      <td>0.095439</td>\n",
       "      <td>19.900000</td>\n",
       "      <td>3.300000</td>\n",
       "      <td>4.410000</td>\n",
       "      <td>19.900000</td>\n",
       "      <td>3.500000</td>\n",
       "      <td>7.670000</td>\n",
       "      <td>19.850000</td>\n",
       "    </tr>\n",
       "    <tr>\n",
       "      <th>25%</th>\n",
       "      <td>4.000000</td>\n",
       "      <td>333.700000</td>\n",
       "      <td>14.761912</td>\n",
       "      <td>53.900000</td>\n",
       "      <td>40.000000</td>\n",
       "      <td>339.000000</td>\n",
       "      <td>1.000000</td>\n",
       "      <td>348.000000</td>\n",
       "      <td>3.900000</td>\n",
       "      <td>34.000000</td>\n",
       "      <td>...</td>\n",
       "      <td>49.910000</td>\n",
       "      <td>4.100000</td>\n",
       "      <td>13.826429</td>\n",
       "      <td>53.900000</td>\n",
       "      <td>4.100000</td>\n",
       "      <td>14.485000</td>\n",
       "      <td>53.785714</td>\n",
       "      <td>3.900000</td>\n",
       "      <td>15.042727</td>\n",
       "      <td>55.668750</td>\n",
       "    </tr>\n",
       "    <tr>\n",
       "      <th>50%</th>\n",
       "      <td>10.000000</td>\n",
       "      <td>807.890000</td>\n",
       "      <td>17.518472</td>\n",
       "      <td>89.900000</td>\n",
       "      <td>51.000000</td>\n",
       "      <td>501.000000</td>\n",
       "      <td>1.500000</td>\n",
       "      <td>950.000000</td>\n",
       "      <td>4.100000</td>\n",
       "      <td>62.000000</td>\n",
       "      <td>...</td>\n",
       "      <td>69.900000</td>\n",
       "      <td>4.200000</td>\n",
       "      <td>16.618984</td>\n",
       "      <td>89.990000</td>\n",
       "      <td>4.200000</td>\n",
       "      <td>16.811765</td>\n",
       "      <td>59.900000</td>\n",
       "      <td>4.000000</td>\n",
       "      <td>16.517110</td>\n",
       "      <td>89.900000</td>\n",
       "    </tr>\n",
       "    <tr>\n",
       "      <th>75%</th>\n",
       "      <td>18.000000</td>\n",
       "      <td>1887.322500</td>\n",
       "      <td>22.713558</td>\n",
       "      <td>129.990000</td>\n",
       "      <td>57.000000</td>\n",
       "      <td>903.000000</td>\n",
       "      <td>2.000000</td>\n",
       "      <td>1850.000000</td>\n",
       "      <td>4.200000</td>\n",
       "      <td>116.000000</td>\n",
       "      <td>...</td>\n",
       "      <td>104.256549</td>\n",
       "      <td>4.200000</td>\n",
       "      <td>19.732500</td>\n",
       "      <td>117.888889</td>\n",
       "      <td>4.200000</td>\n",
       "      <td>21.665238</td>\n",
       "      <td>99.990000</td>\n",
       "      <td>4.100000</td>\n",
       "      <td>19.447778</td>\n",
       "      <td>129.990000</td>\n",
       "    </tr>\n",
       "    <tr>\n",
       "      <th>max</th>\n",
       "      <td>122.000000</td>\n",
       "      <td>12095.000000</td>\n",
       "      <td>79.760000</td>\n",
       "      <td>364.000000</td>\n",
       "      <td>60.000000</td>\n",
       "      <td>3006.000000</td>\n",
       "      <td>8.000000</td>\n",
       "      <td>9750.000000</td>\n",
       "      <td>4.500000</td>\n",
       "      <td>339.000000</td>\n",
       "      <td>...</td>\n",
       "      <td>349.900000</td>\n",
       "      <td>4.500000</td>\n",
       "      <td>57.230000</td>\n",
       "      <td>349.900000</td>\n",
       "      <td>4.400000</td>\n",
       "      <td>57.230000</td>\n",
       "      <td>255.610000</td>\n",
       "      <td>4.400000</td>\n",
       "      <td>57.230000</td>\n",
       "      <td>364.000000</td>\n",
       "    </tr>\n",
       "  </tbody>\n",
       "</table>\n",
       "<p>8 rows × 27 columns</p>\n",
       "</div>"
      ],
      "text/plain": [
       "              qty   total_price  freight_price  unit_price  \\\n",
       "count  676.000000    676.000000     676.000000  676.000000   \n",
       "mean    14.495562   1422.708728      20.682270  106.496800   \n",
       "std     15.443421   1700.123100      10.081817   76.182972   \n",
       "min      1.000000     19.900000       0.000000   19.900000   \n",
       "25%      4.000000    333.700000      14.761912   53.900000   \n",
       "50%     10.000000    807.890000      17.518472   89.900000   \n",
       "75%     18.000000   1887.322500      22.713558  129.990000   \n",
       "max    122.000000  12095.000000      79.760000  364.000000   \n",
       "\n",
       "       product_name_lenght  product_description_lenght  product_photos_qty  \\\n",
       "count           676.000000                  676.000000          676.000000   \n",
       "mean             48.720414                  767.399408            1.994083   \n",
       "std               9.420715                  655.205015            1.420473   \n",
       "min              29.000000                  100.000000            1.000000   \n",
       "25%              40.000000                  339.000000            1.000000   \n",
       "50%              51.000000                  501.000000            1.500000   \n",
       "75%              57.000000                  903.000000            2.000000   \n",
       "max              60.000000                 3006.000000            8.000000   \n",
       "\n",
       "       product_weight_g  product_score   customers  ...      comp_1  \\\n",
       "count        676.000000     676.000000  676.000000  ...  676.000000   \n",
       "mean        1847.498521       4.085503   81.028107  ...   79.452054   \n",
       "std         2274.808483       0.232021   62.055560  ...   47.933358   \n",
       "min          100.000000       3.300000    1.000000  ...   19.900000   \n",
       "25%          348.000000       3.900000   34.000000  ...   49.910000   \n",
       "50%          950.000000       4.100000   62.000000  ...   69.900000   \n",
       "75%         1850.000000       4.200000  116.000000  ...  104.256549   \n",
       "max         9750.000000       4.500000  339.000000  ...  349.900000   \n",
       "\n",
       "              ps1         fp1      comp_2         ps2         fp2      comp_3  \\\n",
       "count  676.000000  676.000000  676.000000  676.000000  676.000000  676.000000   \n",
       "mean     4.159467   18.597610   92.930079    4.123521   18.620644   84.182642   \n",
       "std      0.121652    9.406537   49.481269    0.207189    6.424174   47.745789   \n",
       "min      3.700000    0.095439   19.900000    3.300000    4.410000   19.900000   \n",
       "25%      4.100000   13.826429   53.900000    4.100000   14.485000   53.785714   \n",
       "50%      4.200000   16.618984   89.990000    4.200000   16.811765   59.900000   \n",
       "75%      4.200000   19.732500  117.888889    4.200000   21.665238   99.990000   \n",
       "max      4.500000   57.230000  349.900000    4.400000   57.230000  255.610000   \n",
       "\n",
       "              ps3         fp3   lag_price  \n",
       "count  676.000000  676.000000  676.000000  \n",
       "mean     4.002071   17.965007  107.399684  \n",
       "std      0.233292    5.533256   76.974657  \n",
       "min      3.500000    7.670000   19.850000  \n",
       "25%      3.900000   15.042727   55.668750  \n",
       "50%      4.000000   16.517110   89.900000  \n",
       "75%      4.100000   19.447778  129.990000  \n",
       "max      4.400000   57.230000  364.000000  \n",
       "\n",
       "[8 rows x 27 columns]"
      ]
     },
     "execution_count": 4,
     "metadata": {},
     "output_type": "execute_result"
    }
   ],
   "source": [
    "df.describe()"
   ]
  },
  {
   "cell_type": "code",
   "execution_count": 5,
   "id": "22e78966-e6a5-4b4b-8a4b-2a6349efdfad",
   "metadata": {},
   "outputs": [
    {
     "data": {
      "text/plain": [
       "(676, 30)"
      ]
     },
     "execution_count": 5,
     "metadata": {},
     "output_type": "execute_result"
    }
   ],
   "source": [
    "df.shape"
   ]
  },
  {
   "cell_type": "code",
   "execution_count": 6,
   "id": "030fdeba-03f9-4398-83f5-a0882c15d59d",
   "metadata": {},
   "outputs": [
    {
     "data": {
      "text/plain": [
       "product_id                    0\n",
       "product_category_name         0\n",
       "month_year                    0\n",
       "qty                           0\n",
       "total_price                   0\n",
       "freight_price                 0\n",
       "unit_price                    0\n",
       "product_name_lenght           0\n",
       "product_description_lenght    0\n",
       "product_photos_qty            0\n",
       "product_weight_g              0\n",
       "product_score                 0\n",
       "customers                     0\n",
       "weekday                       0\n",
       "weekend                       0\n",
       "holiday                       0\n",
       "month                         0\n",
       "year                          0\n",
       "s                             0\n",
       "volume                        0\n",
       "comp_1                        0\n",
       "ps1                           0\n",
       "fp1                           0\n",
       "comp_2                        0\n",
       "ps2                           0\n",
       "fp2                           0\n",
       "comp_3                        0\n",
       "ps3                           0\n",
       "fp3                           0\n",
       "lag_price                     0\n",
       "dtype: int64"
      ]
     },
     "execution_count": 6,
     "metadata": {},
     "output_type": "execute_result"
    }
   ],
   "source": [
    "df.isnull().sum()"
   ]
  },
  {
   "cell_type": "code",
   "execution_count": 7,
   "id": "d3878691-a183-4498-83bd-bacdef7f9d30",
   "metadata": {},
   "outputs": [
    {
     "data": {
      "text/plain": [
       "0"
      ]
     },
     "execution_count": 7,
     "metadata": {},
     "output_type": "execute_result"
    }
   ],
   "source": [
    "df.duplicated().sum()"
   ]
  },
  {
   "cell_type": "code",
   "execution_count": 8,
   "id": "4929ab4d-c928-4069-afde-430b7b6bdbb3",
   "metadata": {},
   "outputs": [
    {
     "data": {
      "text/plain": [
       "product_id\n",
       "health5       20\n",
       "health7       20\n",
       "bed2          19\n",
       "garden1       18\n",
       "health9       18\n",
       "garden3       18\n",
       "computers4    18\n",
       "health8       17\n",
       "watches1      17\n",
       "garden9       17\n",
       "garden2       17\n",
       "garden7       16\n",
       "garden10      16\n",
       "garden6       16\n",
       "bed1          16\n",
       "computers1    15\n",
       "cool1         15\n",
       "watches3      15\n",
       "watches2      15\n",
       "garden5       14\n",
       "garden4       14\n",
       "garden8       14\n",
       "watches6      14\n",
       "perfumery2    13\n",
       "cool2         13\n",
       "furniture2    13\n",
       "health2       13\n",
       "furniture1    13\n",
       "perfumery1    13\n",
       "cool5         13\n",
       "watches7      12\n",
       "furniture3    12\n",
       "consoles1     12\n",
       "health4       11\n",
       "bed3          11\n",
       "computers3    10\n",
       "computers2    10\n",
       "bed4          10\n",
       "consoles2     10\n",
       "watches4      10\n",
       "watches5      10\n",
       "furniture4    10\n",
       "watches8      10\n",
       "health1        9\n",
       "cool4          9\n",
       "computers6     8\n",
       "computers5     8\n",
       "health3        8\n",
       "cool3          7\n",
       "health10       7\n",
       "health6        7\n",
       "bed5           5\n",
       "Name: count, dtype: int64"
      ]
     },
     "execution_count": 8,
     "metadata": {},
     "output_type": "execute_result"
    }
   ],
   "source": [
    "df['product_id'].value_counts()"
   ]
  },
  {
   "cell_type": "code",
   "execution_count": 9,
   "id": "3fc0102b-0de9-495a-a3cf-510b9888bc49",
   "metadata": {},
   "outputs": [
    {
     "data": {
      "text/plain": [
       "Index(['product_id', 'product_category_name', 'month_year', 'qty',\n",
       "       'total_price', 'freight_price', 'unit_price', 'product_name_lenght',\n",
       "       'product_description_lenght', 'product_photos_qty', 'product_weight_g',\n",
       "       'product_score', 'customers', 'weekday', 'weekend', 'holiday', 'month',\n",
       "       'year', 's', 'volume', 'comp_1', 'ps1', 'fp1', 'comp_2', 'ps2', 'fp2',\n",
       "       'comp_3', 'ps3', 'fp3', 'lag_price'],\n",
       "      dtype='object')"
      ]
     },
     "execution_count": 9,
     "metadata": {},
     "output_type": "execute_result"
    }
   ],
   "source": [
    "df.columns"
   ]
  },
  {
   "cell_type": "code",
   "execution_count": 10,
   "id": "88d1f295-da92-4966-98aa-9dc499970017",
   "metadata": {},
   "outputs": [],
   "source": [
    "df['month_year']=pd.to_datetime(df['month_year'])"
   ]
  },
  {
   "cell_type": "code",
   "execution_count": 11,
   "id": "e72f961b-7c4a-4556-9ce6-e50b384d1371",
   "metadata": {},
   "outputs": [
    {
     "data": {
      "text/plain": [
       "dtype('<M8[ns]')"
      ]
     },
     "execution_count": 11,
     "metadata": {},
     "output_type": "execute_result"
    }
   ],
   "source": [
    "df['month_year'].dtypes"
   ]
  },
  {
   "cell_type": "code",
   "execution_count": 12,
   "id": "b651c3bf-1c9c-4823-ba88-189da57d2e30",
   "metadata": {},
   "outputs": [
    {
     "data": {
      "text/plain": [
       "product_id                            object\n",
       "product_category_name                 object\n",
       "month_year                    datetime64[ns]\n",
       "qty                                    int64\n",
       "total_price                          float64\n",
       "freight_price                        float64\n",
       "unit_price                           float64\n",
       "product_name_lenght                    int64\n",
       "product_description_lenght             int64\n",
       "product_photos_qty                     int64\n",
       "product_weight_g                       int64\n",
       "product_score                        float64\n",
       "customers                              int64\n",
       "weekday                                int64\n",
       "weekend                                int64\n",
       "holiday                                int64\n",
       "month                                  int64\n",
       "year                                   int64\n",
       "s                                    float64\n",
       "volume                                 int64\n",
       "comp_1                               float64\n",
       "ps1                                  float64\n",
       "fp1                                  float64\n",
       "comp_2                               float64\n",
       "ps2                                  float64\n",
       "fp2                                  float64\n",
       "comp_3                               float64\n",
       "ps3                                  float64\n",
       "fp3                                  float64\n",
       "lag_price                            float64\n",
       "dtype: object"
      ]
     },
     "execution_count": 12,
     "metadata": {},
     "output_type": "execute_result"
    }
   ],
   "source": [
    "df.dtypes"
   ]
  },
  {
   "cell_type": "markdown",
   "id": "6ffa926f-1ea9-475e-b608-59bbf9ab5c03",
   "metadata": {},
   "source": [
    "## EDA نظرة عامة "
   ]
  },
  {
   "cell_type": "code",
   "execution_count": 13,
   "id": "0b4353b0-c200-4cbe-a86b-a5f8e45c2603",
   "metadata": {},
   "outputs": [
    {
     "data": {
      "text/plain": [
       "array(['bed_bath_table', 'garden_tools', 'consoles_games',\n",
       "       'health_beauty', 'cool_stuff', 'perfumery',\n",
       "       'computers_accessories', 'watches_gifts', 'furniture_decor'],\n",
       "      dtype=object)"
      ]
     },
     "execution_count": 13,
     "metadata": {},
     "output_type": "execute_result"
    }
   ],
   "source": [
    "# عدد  الفئات \n",
    "df['product_category_name'].unique()"
   ]
  },
  {
   "cell_type": "code",
   "execution_count": 14,
   "id": "16749325-99c7-48bf-9e01-952198d0af86",
   "metadata": {},
   "outputs": [
    {
     "data": {
      "text/plain": [
       "<Axes: >"
      ]
     },
     "execution_count": 14,
     "metadata": {},
     "output_type": "execute_result"
    },
    {
     "data": {
      "image/png": "[encoded data removed]",
      "text/plain": [
       "<Figure size 640x480 with 1 Axes>"
      ]
     },
     "metadata": {},
     "output_type": "display_data"
    }
   ],
   "source": [
    "# توزيع الكميات ؟\n",
    "df['qty'].hist()"
   ]
  },
  {
   "cell_type": "code",
   "execution_count": 15,
   "id": "9b9b98ee-c8f9-40c0-be47-70f86905369c",
   "metadata": {},
   "outputs": [
    {
     "data": {
      "text/html": [
       "<div>\n",
       "<style scoped>\n",
       "    .dataframe tbody tr th:only-of-type {\n",
       "        vertical-align: middle;\n",
       "    }\n",
       "\n",
       "    .dataframe tbody tr th {\n",
       "        vertical-align: top;\n",
       "    }\n",
       "\n",
       "    .dataframe thead th {\n",
       "        text-align: right;\n",
       "    }\n",
       "</style>\n",
       "<table border=\"1\" class=\"dataframe\">\n",
       "  <thead>\n",
       "    <tr style=\"text-align: right;\">\n",
       "      <th></th>\n",
       "      <th>unit_price</th>\n",
       "      <th>freight_price</th>\n",
       "    </tr>\n",
       "  </thead>\n",
       "  <tbody>\n",
       "    <tr>\n",
       "      <th>unit_price</th>\n",
       "      <td>1.000000</td>\n",
       "      <td>0.203659</td>\n",
       "    </tr>\n",
       "    <tr>\n",
       "      <th>freight_price</th>\n",
       "      <td>0.203659</td>\n",
       "      <td>1.000000</td>\n",
       "    </tr>\n",
       "  </tbody>\n",
       "</table>\n",
       "</div>"
      ],
      "text/plain": [
       "               unit_price  freight_price\n",
       "unit_price       1.000000       0.203659\n",
       "freight_price    0.203659       1.000000"
      ]
     },
     "execution_count": 15,
     "metadata": {},
     "output_type": "execute_result"
    }
   ],
   "source": [
    "# توزيع الاسعار \n",
    "df[['unit_price','freight_price']].corr()"
   ]
  },
  {
   "cell_type": "code",
   "execution_count": 16,
   "id": "52cd017e-4297-4658-b539-86ef366201d1",
   "metadata": {},
   "outputs": [
    {
     "data": {
      "text/plain": [
       "count    676.000000\n",
       "mean     106.496800\n",
       "std       76.182972\n",
       "min       19.900000\n",
       "25%       53.900000\n",
       "50%       89.900000\n",
       "75%      129.990000\n",
       "max      364.000000\n",
       "Name: unit_price, dtype: float64"
      ]
     },
     "execution_count": 16,
     "metadata": {},
     "output_type": "execute_result"
    }
   ],
   "source": [
    "# unit price  اقل و اعلي \n",
    "df['unit_price'].describe()"
   ]
  },
  {
   "cell_type": "code",
   "execution_count": 17,
   "id": "252826f3-e32b-4a04-8a73-8a394b6618cd",
   "metadata": {},
   "outputs": [
    {
     "data": {
      "text/plain": [
       "7"
      ]
     },
     "execution_count": 17,
     "metadata": {},
     "output_type": "execute_result"
    }
   ],
   "source": [
    "# product_photos_qty عدد المنتجات حسب ال \n",
    "df['product_photos_qty'].nunique()"
   ]
  },
  {
   "cell_type": "code",
   "execution_count": 18,
   "id": "0eb6bf4f-1b8c-4a11-899c-e5bad3b98d24",
   "metadata": {},
   "outputs": [
    {
     "data": {
      "text/plain": [
       "<Axes: xlabel='qty', ylabel='total_price'>"
      ]
     },
     "execution_count": 18,
     "metadata": {},
     "output_type": "execute_result"
    },
    {
     "data": {
      "image/png": "[encoded data removed]",
      "text/plain": [
       "<Figure size 640x480 with 1 Axes>"
      ]
     },
     "metadata": {},
     "output_type": "display_data"
    }
   ],
   "source": [
    "# total_price و  qty  العلاقة بين \n",
    "snn.scatterplot(x='qty',y='total_price',data=df)"
   ]
  },
  {
   "cell_type": "markdown",
   "id": "78e34e10-61ed-4a33-a755-989051297108",
   "metadata": {},
   "source": [
    "## month_year تجليل زمني جسب "
   ]
  },
  {
   "cell_type": "code",
   "execution_count": 19,
   "id": "90c28867-b70e-4f7d-a4df-c1ea2cc2aeee",
   "metadata": {},
   "outputs": [],
   "source": [
    "# تجميع حسب الشهر: اجمالي الكميات والايرادات\n",
    "df['month']=df['month_year'].dt.month\n",
    "monthly=df.groupby('month').agg({'qty':'sum','total_price':'sum'})"
   ]
  },
  {
   "cell_type": "code",
   "execution_count": 20,
   "id": "6928af0a-4253-4ddc-9b09-1396bf554789",
   "metadata": {},
   "outputs": [
    {
     "data": {
      "text/html": [
       "<div>\n",
       "<style scoped>\n",
       "    .dataframe tbody tr th:only-of-type {\n",
       "        vertical-align: middle;\n",
       "    }\n",
       "\n",
       "    .dataframe tbody tr th {\n",
       "        vertical-align: top;\n",
       "    }\n",
       "\n",
       "    .dataframe thead th {\n",
       "        text-align: right;\n",
       "    }\n",
       "</style>\n",
       "<table border=\"1\" class=\"dataframe\">\n",
       "  <thead>\n",
       "    <tr style=\"text-align: right;\">\n",
       "      <th></th>\n",
       "      <th>qty</th>\n",
       "      <th>total_price</th>\n",
       "    </tr>\n",
       "    <tr>\n",
       "      <th>month</th>\n",
       "      <th></th>\n",
       "      <th></th>\n",
       "    </tr>\n",
       "  </thead>\n",
       "  <tbody>\n",
       "    <tr>\n",
       "      <th>1</th>\n",
       "      <td>9799</td>\n",
       "      <td>961751.1</td>\n",
       "    </tr>\n",
       "  </tbody>\n",
       "</table>\n",
       "</div>"
      ],
      "text/plain": [
       "        qty  total_price\n",
       "month                   \n",
       "1      9799     961751.1"
      ]
     },
     "execution_count": 20,
     "metadata": {},
     "output_type": "execute_result"
    }
   ],
   "source": [
    "monthly"
   ]
  },
  {
   "cell_type": "code",
   "execution_count": 21,
   "id": "8e533bcc-f882-4307-9145-9bba660ac2d7",
   "metadata": {},
   "outputs": [],
   "source": [
    "mon=df.groupby('month_year').agg({'qty':'sum','total_price':'sum'})"
   ]
  },
  {
   "cell_type": "code",
   "execution_count": 22,
   "id": "f4dcd67a-ec61-4285-abc8-23d65779b1d3",
   "metadata": {},
   "outputs": [
    {
     "data": {
      "text/html": [
       "<div>\n",
       "<style scoped>\n",
       "    .dataframe tbody tr th:only-of-type {\n",
       "        vertical-align: middle;\n",
       "    }\n",
       "\n",
       "    .dataframe tbody tr th {\n",
       "        vertical-align: top;\n",
       "    }\n",
       "\n",
       "    .dataframe thead th {\n",
       "        text-align: right;\n",
       "    }\n",
       "</style>\n",
       "<table border=\"1\" class=\"dataframe\">\n",
       "  <thead>\n",
       "    <tr style=\"text-align: right;\">\n",
       "      <th></th>\n",
       "      <th>qty</th>\n",
       "      <th>total_price</th>\n",
       "    </tr>\n",
       "    <tr>\n",
       "      <th>month_year</th>\n",
       "      <th></th>\n",
       "      <th></th>\n",
       "    </tr>\n",
       "  </thead>\n",
       "  <tbody>\n",
       "    <tr>\n",
       "      <th>2017-01-01</th>\n",
       "      <td>9</td>\n",
       "      <td>2864.19</td>\n",
       "    </tr>\n",
       "    <tr>\n",
       "      <th>2017-01-02</th>\n",
       "      <td>35</td>\n",
       "      <td>3584.11</td>\n",
       "    </tr>\n",
       "    <tr>\n",
       "      <th>2017-01-03</th>\n",
       "      <td>101</td>\n",
       "      <td>10204.38</td>\n",
       "    </tr>\n",
       "    <tr>\n",
       "      <th>2017-01-04</th>\n",
       "      <td>121</td>\n",
       "      <td>11524.62</td>\n",
       "    </tr>\n",
       "    <tr>\n",
       "      <th>2017-01-05</th>\n",
       "      <td>222</td>\n",
       "      <td>21843.33</td>\n",
       "    </tr>\n",
       "    <tr>\n",
       "      <th>2017-01-06</th>\n",
       "      <td>233</td>\n",
       "      <td>23245.24</td>\n",
       "    </tr>\n",
       "    <tr>\n",
       "      <th>2017-01-07</th>\n",
       "      <td>403</td>\n",
       "      <td>41049.89</td>\n",
       "    </tr>\n",
       "    <tr>\n",
       "      <th>2017-01-08</th>\n",
       "      <td>495</td>\n",
       "      <td>49550.41</td>\n",
       "    </tr>\n",
       "    <tr>\n",
       "      <th>2017-01-09</th>\n",
       "      <td>450</td>\n",
       "      <td>44826.60</td>\n",
       "    </tr>\n",
       "    <tr>\n",
       "      <th>2017-01-10</th>\n",
       "      <td>550</td>\n",
       "      <td>48569.38</td>\n",
       "    </tr>\n",
       "    <tr>\n",
       "      <th>2017-01-11</th>\n",
       "      <td>1051</td>\n",
       "      <td>87009.77</td>\n",
       "    </tr>\n",
       "    <tr>\n",
       "      <th>2017-01-12</th>\n",
       "      <td>678</td>\n",
       "      <td>65311.36</td>\n",
       "    </tr>\n",
       "    <tr>\n",
       "      <th>2018-01-01</th>\n",
       "      <td>866</td>\n",
       "      <td>77569.62</td>\n",
       "    </tr>\n",
       "    <tr>\n",
       "      <th>2018-01-02</th>\n",
       "      <td>869</td>\n",
       "      <td>88275.95</td>\n",
       "    </tr>\n",
       "    <tr>\n",
       "      <th>2018-01-03</th>\n",
       "      <td>824</td>\n",
       "      <td>85049.85</td>\n",
       "    </tr>\n",
       "    <tr>\n",
       "      <th>2018-01-04</th>\n",
       "      <td>760</td>\n",
       "      <td>75977.18</td>\n",
       "    </tr>\n",
       "    <tr>\n",
       "      <th>2018-01-05</th>\n",
       "      <td>898</td>\n",
       "      <td>91223.46</td>\n",
       "    </tr>\n",
       "    <tr>\n",
       "      <th>2018-01-06</th>\n",
       "      <td>474</td>\n",
       "      <td>50438.94</td>\n",
       "    </tr>\n",
       "    <tr>\n",
       "      <th>2018-01-07</th>\n",
       "      <td>427</td>\n",
       "      <td>46053.15</td>\n",
       "    </tr>\n",
       "    <tr>\n",
       "      <th>2018-01-08</th>\n",
       "      <td>333</td>\n",
       "      <td>37579.67</td>\n",
       "    </tr>\n",
       "  </tbody>\n",
       "</table>\n",
       "</div>"
      ],
      "text/plain": [
       "             qty  total_price\n",
       "month_year                   \n",
       "2017-01-01     9      2864.19\n",
       "2017-01-02    35      3584.11\n",
       "2017-01-03   101     10204.38\n",
       "2017-01-04   121     11524.62\n",
       "2017-01-05   222     21843.33\n",
       "2017-01-06   233     23245.24\n",
       "2017-01-07   403     41049.89\n",
       "2017-01-08   495     49550.41\n",
       "2017-01-09   450     44826.60\n",
       "2017-01-10   550     48569.38\n",
       "2017-01-11  1051     87009.77\n",
       "2017-01-12   678     65311.36\n",
       "2018-01-01   866     77569.62\n",
       "2018-01-02   869     88275.95\n",
       "2018-01-03   824     85049.85\n",
       "2018-01-04   760     75977.18\n",
       "2018-01-05   898     91223.46\n",
       "2018-01-06   474     50438.94\n",
       "2018-01-07   427     46053.15\n",
       "2018-01-08   333     37579.67"
      ]
     },
     "execution_count": 22,
     "metadata": {},
     "output_type": "execute_result"
    }
   ],
   "source": [
    "mon"
   ]
  },
  {
   "cell_type": "code",
   "execution_count": 23,
   "id": "a3765167-d585-4227-9cb7-32fc49983c2c",
   "metadata": {},
   "outputs": [],
   "source": [
    "# معدل النمو الشهري\n",
    "mon['groth']=mon['total_price'].pct_change()"
   ]
  },
  {
   "cell_type": "code",
   "execution_count": 24,
   "id": "8a35ac6a-864d-4a06-bd71-4e8f35ec49a1",
   "metadata": {},
   "outputs": [
    {
     "data": {
      "text/plain": [
       "month_year\n",
       "2017-01-01         NaN\n",
       "2017-01-02    0.251352\n",
       "2017-01-03    1.847117\n",
       "2017-01-04    0.129380\n",
       "2017-01-05    0.895362\n",
       "2017-01-06    0.064180\n",
       "2017-01-07    0.765948\n",
       "2017-01-08    0.207078\n",
       "2017-01-09   -0.095333\n",
       "2017-01-10    0.083495\n",
       "2017-01-11    0.791453\n",
       "2017-01-12   -0.249379\n",
       "2018-01-01    0.187690\n",
       "2018-01-02    0.138022\n",
       "2018-01-03   -0.036546\n",
       "2018-01-04   -0.106675\n",
       "2018-01-05    0.200669\n",
       "2018-01-06   -0.447084\n",
       "2018-01-07   -0.086952\n",
       "2018-01-08   -0.183993\n",
       "Name: groth, dtype: float64"
      ]
     },
     "execution_count": 24,
     "metadata": {},
     "output_type": "execute_result"
    }
   ],
   "source": [
    "mon['groth']"
   ]
  },
  {
   "cell_type": "code",
   "execution_count": 25,
   "id": "15c5c63e-33a0-4679-bbfe-061f6551ea0f",
   "metadata": {},
   "outputs": [
    {
     "ename": "ValueError",
     "evalue": "x must have 2 complete cycles requires 24 observations. x only has 20 observation(s)",
     "output_type": "error",
     "traceback": [
      "\u001b[1;31m---------------------------------------------------------------------------\u001b[0m",
      "\u001b[1;31mValueError\u001b[0m                                Traceback (most recent call last)",
      "Cell \u001b[1;32mIn[25], line 3\u001b[0m\n\u001b[0;32m      1\u001b[0m \u001b[38;5;66;03m# تحليل الموسمية\u001b[39;00m\n\u001b[0;32m      2\u001b[0m \u001b[38;5;28;01mfrom\u001b[39;00m \u001b[38;5;21;01mstatsmodels\u001b[39;00m\u001b[38;5;21;01m.\u001b[39;00m\u001b[38;5;21;01mtsa\u001b[39;00m\u001b[38;5;21;01m.\u001b[39;00m\u001b[38;5;21;01mseasonal\u001b[39;00m \u001b[38;5;28;01mimport\u001b[39;00m seasonal_decompose\n\u001b[1;32m----> 3\u001b[0m res \u001b[38;5;241m=\u001b[39m seasonal_decompose(mon[\u001b[38;5;124m'\u001b[39m\u001b[38;5;124mtotal_price\u001b[39m\u001b[38;5;124m'\u001b[39m], period\u001b[38;5;241m=\u001b[39m\u001b[38;5;241m12\u001b[39m)\n\u001b[0;32m      4\u001b[0m res\u001b[38;5;241m.\u001b[39mplot()\n",
      "File \u001b[1;32m~\\anaconda3\\Lib\\site-packages\\statsmodels\\tsa\\seasonal.py:172\u001b[0m, in \u001b[0;36mseasonal_decompose\u001b[1;34m(x, model, filt, period, two_sided, extrapolate_trend)\u001b[0m\n\u001b[0;32m    167\u001b[0m         \u001b[38;5;28;01mraise\u001b[39;00m \u001b[38;5;167;01mValueError\u001b[39;00m(\n\u001b[0;32m    168\u001b[0m             \u001b[38;5;124m\"\u001b[39m\u001b[38;5;124mYou must specify a period or x must be a pandas object with \u001b[39m\u001b[38;5;124m\"\u001b[39m\n\u001b[0;32m    169\u001b[0m             \u001b[38;5;124m\"\u001b[39m\u001b[38;5;124ma PeriodIndex or a DatetimeIndex with a freq not set to None\u001b[39m\u001b[38;5;124m\"\u001b[39m\n\u001b[0;32m    170\u001b[0m         )\n\u001b[0;32m    171\u001b[0m \u001b[38;5;28;01mif\u001b[39;00m x\u001b[38;5;241m.\u001b[39mshape[\u001b[38;5;241m0\u001b[39m] \u001b[38;5;241m<\u001b[39m \u001b[38;5;241m2\u001b[39m \u001b[38;5;241m*\u001b[39m pfreq:\n\u001b[1;32m--> 172\u001b[0m     \u001b[38;5;28;01mraise\u001b[39;00m \u001b[38;5;167;01mValueError\u001b[39;00m(\n\u001b[0;32m    173\u001b[0m         \u001b[38;5;124mf\u001b[39m\u001b[38;5;124m\"\u001b[39m\u001b[38;5;124mx must have 2 complete cycles requires \u001b[39m\u001b[38;5;132;01m{\u001b[39;00m\u001b[38;5;241m2\u001b[39m\u001b[38;5;250m \u001b[39m\u001b[38;5;241m*\u001b[39m\u001b[38;5;250m \u001b[39mpfreq\u001b[38;5;132;01m}\u001b[39;00m\u001b[38;5;124m \u001b[39m\u001b[38;5;124m\"\u001b[39m\n\u001b[0;32m    174\u001b[0m         \u001b[38;5;124mf\u001b[39m\u001b[38;5;124m\"\u001b[39m\u001b[38;5;124mobservations. x only has \u001b[39m\u001b[38;5;132;01m{\u001b[39;00mx\u001b[38;5;241m.\u001b[39mshape[\u001b[38;5;241m0\u001b[39m]\u001b[38;5;132;01m}\u001b[39;00m\u001b[38;5;124m observation(s)\u001b[39m\u001b[38;5;124m\"\u001b[39m\n\u001b[0;32m    175\u001b[0m     )\n\u001b[0;32m    177\u001b[0m \u001b[38;5;28;01mif\u001b[39;00m filt \u001b[38;5;129;01mis\u001b[39;00m \u001b[38;5;28;01mNone\u001b[39;00m:\n\u001b[0;32m    178\u001b[0m     \u001b[38;5;28;01mif\u001b[39;00m period \u001b[38;5;241m%\u001b[39m \u001b[38;5;241m2\u001b[39m \u001b[38;5;241m==\u001b[39m \u001b[38;5;241m0\u001b[39m:  \u001b[38;5;66;03m# split weights at ends\u001b[39;00m\n",
      "\u001b[1;31mValueError\u001b[0m: x must have 2 complete cycles requires 24 observations. x only has 20 observation(s)"
     ]
    }
   ],
   "source": [
    "# تحليل الموسمية\n",
    "from statsmodels.tsa.seasonal import seasonal_decompose\n",
    "res = seasonal_decompose(mon['total_price'], period=12)\n",
    "res.plot()\n"
   ]
  },
  {
   "cell_type": "markdown",
   "id": "da48f226-8ac6-45e8-8c60-ecc7993ca614",
   "metadata": {},
   "source": [
    "## تجليل جسب الفئة "
   ]
  },
  {
   "cell_type": "code",
   "execution_count": null,
   "id": "f95d0544-4fc8-4a36-b872-52720ac5620c",
   "metadata": {},
   "outputs": [],
   "source": [
    "df.columns"
   ]
  },
  {
   "cell_type": "code",
   "execution_count": null,
   "id": "8c4203f6-556c-4001-903b-153a1d2d4a3c",
   "metadata": {},
   "outputs": [],
   "source": [
    "# اعلي 10 فئات في حجم المبيعات\n",
    "df.groupby('product_category_name')['total_price'].sum().sort_values(ascending=False)"
   ]
  },
  {
   "cell_type": "code",
   "execution_count": null,
   "id": "aeb6910c-6a44-4041-a111-420d3327a3d5",
   "metadata": {},
   "outputs": [],
   "source": [
    "# اعلي 10 فئات بالايراد\n",
    "df.groupby('product_category_name')['qty'].sum().sort_values(ascending=False)"
   ]
  },
  {
   "cell_type": "code",
   "execution_count": null,
   "id": "c46d548d-3a2a-4afa-8eba-30701f88920d",
   "metadata": {},
   "outputs": [],
   "source": [
    "# unit price متوسط كل فئة ل \n",
    "df.groupby('product_category_name')['unit_price'].mean()"
   ]
  },
  {
   "cell_type": "code",
   "execution_count": null,
   "id": "979dc7c4-227e-4db9-9fd4-1149abac0eeb",
   "metadata": {},
   "outputs": [],
   "source": [
    "#لكل فئة total price و  freight  نسبة \n",
    "df.groupby('product_category_name')[['total_price','freight_price']].sum()"
   ]
  },
  {
   "cell_type": "code",
   "execution_count": null,
   "id": "7ea0d999-b95f-4522-ab99-299750c5a826",
   "metadata": {},
   "outputs": [],
   "source": [
    "# التغيير ضمن الفئة شهريا\n",
    "df.groupby('product_category_name')['month_year'].count()"
   ]
  },
  {
   "cell_type": "markdown",
   "id": "13bd4d84-8b4a-4fef-98d7-759e13a64ff2",
   "metadata": {},
   "source": [
    "## (freight , pricing) التحاليل السعرية \n"
   ]
  },
  {
   "cell_type": "code",
   "execution_count": null,
   "id": "22b10d41-874e-49ea-bd4f-72d2689d0703",
   "metadata": {},
   "outputs": [],
   "source": [
    "#unit price ,freight price  هل هناك فرق بين \n",
    "df[['unit_price','freight_price']].corr()"
   ]
  },
  {
   "cell_type": "markdown",
   "id": "641c4497-b9ca-419b-8380-f4e5025abcae",
   "metadata": {},
   "source": [
    "## اسالة جديدة"
   ]
  },
  {
   "cell_type": "code",
   "execution_count": 26,
   "id": "f9989c3a-ae2c-45ef-91d2-bbbb868055e6",
   "metadata": {},
   "outputs": [
    {
     "data": {
      "text/plain": [
       "<Axes: >"
      ]
     },
     "execution_count": 26,
     "metadata": {},
     "output_type": "execute_result"
    },
    {
     "data": {
      "image/png": "[encoded data removed]",
      "text/plain": [
       "<Figure size 640x480 with 1 Axes>"
      ]
     },
     "metadata": {},
     "output_type": "display_data"
    }
   ],
   "source": [
    "# log price التوزيع في \n",
    "df['lag_price'].hist()"
   ]
  },
  {
   "cell_type": "code",
   "execution_count": 27,
   "id": "4b4a12ca-119a-4824-a99f-ec4934bed458",
   "metadata": {},
   "outputs": [
    {
     "data": {
      "text/html": [
       "<div>\n",
       "<style scoped>\n",
       "    .dataframe tbody tr th:only-of-type {\n",
       "        vertical-align: middle;\n",
       "    }\n",
       "\n",
       "    .dataframe tbody tr th {\n",
       "        vertical-align: top;\n",
       "    }\n",
       "\n",
       "    .dataframe thead th {\n",
       "        text-align: right;\n",
       "    }\n",
       "</style>\n",
       "<table border=\"1\" class=\"dataframe\">\n",
       "  <thead>\n",
       "    <tr style=\"text-align: right;\">\n",
       "      <th></th>\n",
       "      <th>unit_price</th>\n",
       "      <th>lag_price</th>\n",
       "    </tr>\n",
       "  </thead>\n",
       "  <tbody>\n",
       "    <tr>\n",
       "      <th>unit_price</th>\n",
       "      <td>1.000000</td>\n",
       "      <td>0.994453</td>\n",
       "    </tr>\n",
       "    <tr>\n",
       "      <th>lag_price</th>\n",
       "      <td>0.994453</td>\n",
       "      <td>1.000000</td>\n",
       "    </tr>\n",
       "  </tbody>\n",
       "</table>\n",
       "</div>"
      ],
      "text/plain": [
       "            unit_price  lag_price\n",
       "unit_price    1.000000   0.994453\n",
       "lag_price     0.994453   1.000000"
      ]
     },
     "execution_count": 27,
     "metadata": {},
     "output_type": "execute_result"
    }
   ],
   "source": [
    "# unit pricr  مقارنة lag price \n",
    "df[['unit_price','lag_price']].corr()"
   ]
  },
  {
   "cell_type": "code",
   "execution_count": 28,
   "id": "e6099b9d-0df0-4cc2-81c5-b4a8ff45cc71",
   "metadata": {},
   "outputs": [
    {
     "data": {
      "text/plain": [
       "count    676.000000\n",
       "mean      -0.902885\n",
       "std        8.104240\n",
       "min      -76.550682\n",
       "25%       -0.181151\n",
       "50%        0.000000\n",
       "75%        0.050000\n",
       "max       67.920000\n",
       "dtype: float64"
      ]
     },
     "execution_count": 28,
     "metadata": {},
     "output_type": "execute_result"
    }
   ],
   "source": [
    "(df['unit_price']-df['lag_price']).describe()"
   ]
  },
  {
   "cell_type": "code",
   "execution_count": 29,
   "id": "77b0eecb-3e09-407b-b8cb-f799165d6242",
   "metadata": {},
   "outputs": [
    {
     "data": {
      "text/plain": [
       "59.90    159\n",
       "58.99    107\n",
       "49.90     93\n",
       "23.99     92\n",
       "99.99     81\n",
       "Name: count, dtype: int64"
      ]
     },
     "execution_count": 29,
     "metadata": {},
     "output_type": "execute_result"
    }
   ],
   "source": [
    "# comp_1,comp_2,comp_3 من فيهم لديه منافسة عالية\n",
    "pd.concat([df['comp_1'],df['comp_2'],df['comp_3']]).value_counts().head()"
   ]
  },
  {
   "cell_type": "code",
   "execution_count": 30,
   "id": "46d8e7c1-1005-46a8-9ca6-ac8298b05313",
   "metadata": {},
   "outputs": [
    {
     "data": {
      "text/plain": [
       "4.2    547\n",
       "4.1    483\n",
       "4.3    288\n",
       "3.9    251\n",
       "3.8    124\n",
       "Name: count, dtype: int64"
      ]
     },
     "execution_count": 30,
     "metadata": {},
     "output_type": "execute_result"
    }
   ],
   "source": [
    "# sp1,sp2,sp3 عدد التكرارات ل \n",
    "pd.concat([df['ps1'],df['ps2'],df['ps3']]).value_counts().head()\n"
   ]
  },
  {
   "cell_type": "code",
   "execution_count": 31,
   "id": "58cd8a5a-3524-400b-8469-5d28a84d634c",
   "metadata": {},
   "outputs": [
    {
     "data": {
      "text/html": [
       "<div>\n",
       "<style scoped>\n",
       "    .dataframe tbody tr th:only-of-type {\n",
       "        vertical-align: middle;\n",
       "    }\n",
       "\n",
       "    .dataframe tbody tr th {\n",
       "        vertical-align: top;\n",
       "    }\n",
       "\n",
       "    .dataframe thead th {\n",
       "        text-align: right;\n",
       "    }\n",
       "</style>\n",
       "<table border=\"1\" class=\"dataframe\">\n",
       "  <thead>\n",
       "    <tr style=\"text-align: right;\">\n",
       "      <th></th>\n",
       "      <th>comp_1</th>\n",
       "      <th>fp1</th>\n",
       "    </tr>\n",
       "  </thead>\n",
       "  <tbody>\n",
       "    <tr>\n",
       "      <th>comp_1</th>\n",
       "      <td>1.000000</td>\n",
       "      <td>0.401177</td>\n",
       "    </tr>\n",
       "    <tr>\n",
       "      <th>fp1</th>\n",
       "      <td>0.401177</td>\n",
       "      <td>1.000000</td>\n",
       "    </tr>\n",
       "  </tbody>\n",
       "</table>\n",
       "</div>"
      ],
      "text/plain": [
       "          comp_1       fp1\n",
       "comp_1  1.000000  0.401177\n",
       "fp1     0.401177  1.000000"
      ]
     },
     "execution_count": 31,
     "metadata": {},
     "output_type": "execute_result"
    }
   ],
   "source": [
    "# comp1 fp1 العلاقة بين \n",
    "df[['comp_1','fp1']].corr()"
   ]
  },
  {
   "cell_type": "code",
   "execution_count": 32,
   "id": "5022a344-8afc-4d3a-8e8b-4c168dc59537",
   "metadata": {},
   "outputs": [
    {
     "data": {
      "text/plain": [
       "comp_1\n",
       "19.900000     15.256720\n",
       "19.990000     13.604895\n",
       "21.542857     13.534286\n",
       "23.397407     14.276786\n",
       "23.990000     13.846120\n",
       "                ...    \n",
       "241.006000    21.318000\n",
       "255.610000    21.226667\n",
       "330.000000    17.309048\n",
       "339.900000    17.130000\n",
       "349.900000    24.271339\n",
       "Name: fp1, Length: 88, dtype: float64"
      ]
     },
     "execution_count": 32,
     "metadata": {},
     "output_type": "execute_result"
    }
   ],
   "source": [
    "df.groupby('comp_1')['fp1'].mean()"
   ]
  },
  {
   "cell_type": "code",
   "execution_count": 33,
   "id": "9732bf49-7b85-40d7-b25e-aeafb28f2e34",
   "metadata": {},
   "outputs": [
    {
     "data": {
      "text/plain": [
       "Index(['product_id', 'product_category_name', 'month_year', 'qty',\n",
       "       'total_price', 'freight_price', 'unit_price', 'product_name_lenght',\n",
       "       'product_description_lenght', 'product_photos_qty', 'product_weight_g',\n",
       "       'product_score', 'customers', 'weekday', 'weekend', 'holiday', 'month',\n",
       "       'year', 's', 'volume', 'comp_1', 'ps1', 'fp1', 'comp_2', 'ps2', 'fp2',\n",
       "       'comp_3', 'ps3', 'fp3', 'lag_price'],\n",
       "      dtype='object')"
      ]
     },
     "execution_count": 33,
     "metadata": {},
     "output_type": "execute_result"
    }
   ],
   "source": [
    "df.columns"
   ]
  },
  {
   "cell_type": "code",
   "execution_count": 34,
   "id": "dd4ef80c-5579-42f2-b5e7-64604a1b9f41",
   "metadata": {},
   "outputs": [
    {
     "data": {
      "text/plain": [
       "month_year\n",
       "2017-01-01    207.445000\n",
       "2017-01-02    127.827143\n",
       "2017-01-03    122.586615\n",
       "2017-01-04    119.288667\n",
       "2017-01-05    104.785769\n",
       "2017-01-06    112.152081\n",
       "2017-01-07    105.111896\n",
       "2017-01-08    114.737339\n",
       "2017-01-09    112.336313\n",
       "2017-01-10    113.623544\n",
       "2017-01-11    105.089355\n",
       "2017-01-12    109.526701\n",
       "2018-01-01    109.686025\n",
       "2018-01-02    107.690421\n",
       "2018-01-03    101.809616\n",
       "2018-01-04    101.762989\n",
       "2018-01-05    100.167249\n",
       "2018-01-06     97.013803\n",
       "2018-01-07     96.016725\n",
       "2018-01-08     95.216471\n",
       "Name: unit_price, dtype: float64"
      ]
     },
     "execution_count": 34,
     "metadata": {},
     "output_type": "execute_result"
    }
   ],
   "source": [
    "# مع الشهور unit price هل يتغير \n",
    "df.groupby('month_year')['unit_price'].mean()"
   ]
  },
  {
   "cell_type": "code",
   "execution_count": 35,
   "id": "10493228-d878-4ca2-adf3-e6928c70777e",
   "metadata": {},
   "outputs": [
    {
     "data": {
      "text/plain": [
       "month_year\n",
       "2017-01-01    201.461793\n",
       "2017-01-02     95.793880\n",
       "2017-01-03     86.322267\n",
       "2017-01-04     85.709981\n",
       "2017-01-05     72.993023\n",
       "2017-01-06     68.553294\n",
       "2017-01-07     70.255752\n",
       "2017-01-08     84.285600\n",
       "2017-01-09     85.059596\n",
       "2017-01-10     83.248647\n",
       "2017-01-11     76.036949\n",
       "2017-01-12     78.610107\n",
       "2018-01-01     78.367003\n",
       "2018-01-02     76.530428\n",
       "2018-01-03     72.431801\n",
       "2018-01-04     70.818569\n",
       "2018-01-05     75.142898\n",
       "2018-01-06     71.757068\n",
       "2018-01-07     70.245947\n",
       "2018-01-08     70.456892\n",
       "Name: unit_price, dtype: float64"
      ]
     },
     "execution_count": 35,
     "metadata": {},
     "output_type": "execute_result"
    }
   ],
   "source": [
    "#  حسب الشهور unit price تحليل الانحراف المعياري في \n",
    "df.groupby('month_year')['unit_price'].std()"
   ]
  },
  {
   "cell_type": "code",
   "execution_count": 36,
   "id": "22d2230b-570f-44f9-ba4b-210fc2fba53e",
   "metadata": {},
   "outputs": [
    {
     "data": {
      "text/plain": [
       "month_year\n",
       "2017-01-01    201.461793\n",
       "2017-01-02     95.804271\n",
       "2017-01-03     86.723828\n",
       "2017-01-04     85.052425\n",
       "2017-01-05     73.149774\n",
       "2017-01-06     69.528840\n",
       "2017-01-07     70.059495\n",
       "2017-01-08     85.065351\n",
       "2017-01-09     86.853525\n",
       "2017-01-10     81.391275\n",
       "2017-01-11     79.472112\n",
       "2017-01-12     75.331030\n",
       "2018-01-01     78.118373\n",
       "2018-01-02     77.746710\n",
       "2018-01-03     76.593723\n",
       "2018-01-04     73.012173\n",
       "2018-01-05     76.526114\n",
       "2018-01-06     71.733886\n",
       "2018-01-07     73.069332\n",
       "2018-01-08     70.812394\n",
       "Name: lag_price, dtype: float64"
      ]
     },
     "execution_count": 36,
     "metadata": {},
     "output_type": "execute_result"
    }
   ],
   "source": [
    "# lag price الانحراف في \n",
    "df.groupby('month_year')['lag_price'].std()"
   ]
  },
  {
   "cell_type": "code",
   "execution_count": 37,
   "id": "5521c7f6-8202-4604-afe8-8c10ecb00e0f",
   "metadata": {},
   "outputs": [
    {
     "data": {
      "text/plain": [
       "product_name_lenght\n",
       "59    103\n",
       "54     60\n",
       "33     59\n",
       "57     47\n",
       "58     45\n",
       "35     42\n",
       "49     34\n",
       "56     31\n",
       "48     26\n",
       "55     22\n",
       "51     20\n",
       "42     20\n",
       "47     18\n",
       "39     16\n",
       "40     16\n",
       "45     15\n",
       "50     15\n",
       "36     14\n",
       "29     13\n",
       "44     13\n",
       "60     13\n",
       "41     12\n",
       "46     12\n",
       "38     10\n",
       "Name: count, dtype: int64"
      ]
     },
     "execution_count": 37,
     "metadata": {},
     "output_type": "execute_result"
    }
   ],
   "source": [
    "# توزيع طول الاسم \n",
    "df['product_name_lenght'].value_counts()"
   ]
  },
  {
   "cell_type": "code",
   "execution_count": 38,
   "id": "afd03f66-cb68-41c2-9b22-1364426a3d4f",
   "metadata": {},
   "outputs": [
    {
     "data": {
      "text/plain": [
       "<Axes: >"
      ]
     },
     "execution_count": 38,
     "metadata": {},
     "output_type": "execute_result"
    },
    {
     "data": {
      "image/png": "[encoded data removed]",
      "text/plain": [
       "<Figure size 640x480 with 1 Axes>"
      ]
     },
     "metadata": {},
     "output_type": "display_data"
    }
   ],
   "source": [
    "df['product_name_lenght'].hist()"
   ]
  },
  {
   "cell_type": "code",
   "execution_count": 39,
   "id": "2ffdf54f-2cc0-4d27-ba65-96e905f8abca",
   "metadata": {},
   "outputs": [
    {
     "data": {
      "text/plain": [
       "<Axes: >"
      ]
     },
     "execution_count": 39,
     "metadata": {},
     "output_type": "execute_result"
    },
    {
     "data": {
      "image/png": "[encoded data removed]",
      "text/plain": [
       "<Figure size 640x480 with 1 Axes>"
      ]
     },
     "metadata": {},
     "output_type": "display_data"
    }
   ],
   "source": [
    "# توزيع طول الوصف\n",
    "df['product_description_lenght'].hist()"
   ]
  },
  {
   "cell_type": "code",
   "execution_count": 40,
   "id": "4c1fe281-d4fa-4717-9ef9-6104876e8c23",
   "metadata": {},
   "outputs": [
    {
     "data": {
      "text/plain": [
       "product_name_lenght\n",
       "29    123.823010\n",
       "33    129.109785\n",
       "35    168.749877\n",
       "36     94.568207\n",
       "38     46.725444\n",
       "39     42.211989\n",
       "40    111.430559\n",
       "41     36.705574\n",
       "42    178.685062\n",
       "44     77.509897\n",
       "45     92.482149\n",
       "46    305.690296\n",
       "47    105.374574\n",
       "48     61.803152\n",
       "49     46.516176\n",
       "50     92.892564\n",
       "51    350.744318\n",
       "54     85.334305\n",
       "55     61.000682\n",
       "56     68.581891\n",
       "57     61.594038\n",
       "58     86.796560\n",
       "59     79.778095\n",
       "60    326.991758\n",
       "Name: unit_price, dtype: float64"
      ]
     },
     "execution_count": 40,
     "metadata": {},
     "output_type": "execute_result"
    }
   ],
   "source": [
    "# هل هناك علاقة بين طول الاسم والسعر\n",
    "df.groupby('product_name_lenght')['unit_price'].mean()"
   ]
  },
  {
   "cell_type": "code",
   "execution_count": 41,
   "id": "352aa1aa-0867-4b3e-9113-bbd16f91a49a",
   "metadata": {},
   "outputs": [
    {
     "data": {
      "text/html": [
       "<div>\n",
       "<style scoped>\n",
       "    .dataframe tbody tr th:only-of-type {\n",
       "        vertical-align: middle;\n",
       "    }\n",
       "\n",
       "    .dataframe tbody tr th {\n",
       "        vertical-align: top;\n",
       "    }\n",
       "\n",
       "    .dataframe thead th {\n",
       "        text-align: right;\n",
       "    }\n",
       "</style>\n",
       "<table border=\"1\" class=\"dataframe\">\n",
       "  <thead>\n",
       "    <tr style=\"text-align: right;\">\n",
       "      <th></th>\n",
       "      <th>product_name_lenght</th>\n",
       "      <th>unit_price</th>\n",
       "    </tr>\n",
       "  </thead>\n",
       "  <tbody>\n",
       "    <tr>\n",
       "      <th>product_name_lenght</th>\n",
       "      <td>1.000000</td>\n",
       "      <td>-0.170613</td>\n",
       "    </tr>\n",
       "    <tr>\n",
       "      <th>unit_price</th>\n",
       "      <td>-0.170613</td>\n",
       "      <td>1.000000</td>\n",
       "    </tr>\n",
       "  </tbody>\n",
       "</table>\n",
       "</div>"
      ],
      "text/plain": [
       "                     product_name_lenght  unit_price\n",
       "product_name_lenght             1.000000   -0.170613\n",
       "unit_price                     -0.170613    1.000000"
      ]
     },
     "execution_count": 41,
     "metadata": {},
     "output_type": "execute_result"
    }
   ],
   "source": [
    "df[['product_name_lenght','unit_price']].corr()\n"
   ]
  },
  {
   "cell_type": "code",
   "execution_count": 42,
   "id": "58c0a503-c6c8-4c2f-ac8a-75e6411b30e6",
   "metadata": {},
   "outputs": [
    {
     "data": {
      "text/plain": [
       "<bound method DataFrame.groupby of     product_id product_category_name month_year  qty  total_price  \\\n",
       "0         bed1        bed_bath_table 2017-01-05    1        45.95   \n",
       "1         bed1        bed_bath_table 2017-01-06    3       137.85   \n",
       "2         bed1        bed_bath_table 2017-01-07    6       275.70   \n",
       "3         bed1        bed_bath_table 2017-01-08    4       183.80   \n",
       "4         bed1        bed_bath_table 2017-01-09    2        91.90   \n",
       "..         ...                   ...        ...  ...          ...   \n",
       "671       bed5        bed_bath_table 2017-01-05    1       215.00   \n",
       "672       bed5        bed_bath_table 2017-01-06   10      2090.00   \n",
       "673       bed5        bed_bath_table 2017-01-07   59     12095.00   \n",
       "674       bed5        bed_bath_table 2017-01-08   52     10375.00   \n",
       "675       bed5        bed_bath_table 2017-01-09   32      5222.36   \n",
       "\n",
       "     freight_price  unit_price  product_name_lenght  \\\n",
       "0        15.100000   45.950000                   39   \n",
       "1        12.933333   45.950000                   39   \n",
       "2        14.840000   45.950000                   39   \n",
       "3        14.287500   45.950000                   39   \n",
       "4        15.100000   45.950000                   39   \n",
       "..             ...         ...                  ...   \n",
       "671       8.760000  215.000000                   56   \n",
       "672      21.322000  209.000000                   56   \n",
       "673      22.195932  205.000000                   56   \n",
       "674      19.412885  199.509804                   56   \n",
       "675      24.324687  163.398710                   56   \n",
       "\n",
       "     product_description_lenght  product_photos_qty  ...  comp_1  ps1  \\\n",
       "0                           161                   2  ...    89.9  3.9   \n",
       "1                           161                   2  ...    89.9  3.9   \n",
       "2                           161                   2  ...    89.9  3.9   \n",
       "3                           161                   2  ...    89.9  3.9   \n",
       "4                           161                   2  ...    89.9  3.9   \n",
       "..                          ...                 ...  ...     ...  ...   \n",
       "671                         162                   5  ...    89.9  3.9   \n",
       "672                         162                   5  ...    89.9  3.9   \n",
       "673                         162                   5  ...    89.9  3.9   \n",
       "674                         162                   5  ...    89.9  3.9   \n",
       "675                         162                   5  ...    89.9  3.9   \n",
       "\n",
       "           fp1      comp_2  ps2        fp2  comp_3  ps3        fp3   lag_price  \n",
       "0    15.011897  215.000000  4.4   8.760000   45.95  4.0  15.100000   45.900000  \n",
       "1    14.769216  209.000000  4.4  21.322000   45.95  4.0  12.933333   45.950000  \n",
       "2    13.993833  205.000000  4.4  22.195932   45.95  4.0  14.840000   45.950000  \n",
       "3    14.656757  199.509804  4.4  19.412885   45.95  4.0  14.287500   45.950000  \n",
       "4    18.776522  163.398710  4.4  24.324687   45.95  4.0  15.100000   45.950000  \n",
       "..         ...         ...  ...        ...     ...  ...        ...         ...  \n",
       "671  15.011897  215.000000  4.4   8.760000   45.95  4.0  15.100000  214.950000  \n",
       "672  14.769216  209.000000  4.4  21.322000   45.95  4.0  12.933333  215.000000  \n",
       "673  13.993833  205.000000  4.4  22.195932   45.95  4.0  14.840000  209.000000  \n",
       "674  14.656757  199.509804  4.4  19.412885   45.95  4.0  14.287500  205.000000  \n",
       "675  18.776522  163.398710  4.4  24.324687   45.95  4.0  15.100000  199.509804  \n",
       "\n",
       "[676 rows x 30 columns]>"
      ]
     },
     "execution_count": 42,
     "metadata": {},
     "output_type": "execute_result"
    }
   ],
   "source": [
    "# طباعة اول 5 منتجات لكل فئة\n",
    "df.groupby"
   ]
  },
  {
   "cell_type": "code",
   "execution_count": 43,
   "id": "8bb89a04-bdb8-4af4-9f5f-c8754eb008b2",
   "metadata": {},
   "outputs": [
    {
     "data": {
      "text/plain": [
       "Index(['product_id', 'product_category_name', 'month_year', 'qty',\n",
       "       'total_price', 'freight_price', 'unit_price', 'product_name_lenght',\n",
       "       'product_description_lenght', 'product_photos_qty', 'product_weight_g',\n",
       "       'product_score', 'customers', 'weekday', 'weekend', 'holiday', 'month',\n",
       "       'year', 's', 'volume', 'comp_1', 'ps1', 'fp1', 'comp_2', 'ps2', 'fp2',\n",
       "       'comp_3', 'ps3', 'fp3', 'lag_price'],\n",
       "      dtype='object')"
      ]
     },
     "execution_count": 43,
     "metadata": {},
     "output_type": "execute_result"
    }
   ],
   "source": [
    "df.columns"
   ]
  },
  {
   "cell_type": "code",
   "execution_count": null,
   "id": "66c456b2-dae5-4795-878f-93675c754001",
   "metadata": {},
   "outputs": [],
   "source": []
  },
  {
   "cell_type": "code",
   "execution_count": null,
   "id": "3327a4a9-e0c6-40f5-8d83-8a8ad995eb1f",
   "metadata": {},
   "outputs": [],
   "source": []
  },
  {
   "cell_type": "code",
   "execution_count": null,
   "id": "6e9d488d-1c3d-4f34-b231-2a84d804b27c",
   "metadata": {},
   "outputs": [],
   "source": []
  },
  {
   "cell_type": "code",
   "execution_count": null,
   "id": "4e69cad8-1ff7-4ddd-be7a-3217421875c4",
   "metadata": {},
   "outputs": [],
   "source": []
  },
  {
   "cell_type": "code",
   "execution_count": null,
   "id": "7ebc8029-8fbe-4894-8256-94fc1ce8227f",
   "metadata": {},
   "outputs": [],
   "source": []
  },
  {
   "cell_type": "code",
   "execution_count": null,
   "id": "704130eb-278f-420e-b773-54560fca8849",
   "metadata": {},
   "outputs": [],
   "source": []
  },
  {
   "cell_type": "code",
   "execution_count": null,
   "id": "ca1c9a3e-280d-4e06-b3a6-3e79b35a2fbd",
   "metadata": {},
   "outputs": [],
   "source": []
  },
  {
   "cell_type": "code",
   "execution_count": null,
   "id": "7b342c25-79e7-4e56-b403-9d7facecb51c",
   "metadata": {},
   "outputs": [],
   "source": []
  },
  {
   "cell_type": "code",
   "execution_count": null,
   "id": "ebbd13fd-0009-46ca-bc2c-4c20d9bbddb7",
   "metadata": {},
   "outputs": [],
   "source": []
  },
  {
   "cell_type": "code",
   "execution_count": null,
   "id": "df117ade-802a-4587-ae16-de1d836a24ec",
   "metadata": {},
   "outputs": [],
   "source": []
  },
  {
   "cell_type": "code",
   "execution_count": null,
   "id": "10a2c651-8216-4a07-acd4-2bfd068e2453",
   "metadata": {},
   "outputs": [],
   "source": []
  }
 ],
 "metadata": {
  "kernelspec": {
   "display_name": "Python 3 (ipykernel)",
   "language": "python",
   "name": "python3"
  },
  "language_info": {
   "codemirror_mode": {
    "name": "ipython",
    "version": 3
   },
   "file_extension": ".py",
   "mimetype": "text/x-python",
   "name": "python",
   "nbconvert_exporter": "python",
   "pygments_lexer": "ipython3",
   "version": "3.12.7"
  }
 },
 "nbformat": 4,
 "nbformat_minor": 5
}
